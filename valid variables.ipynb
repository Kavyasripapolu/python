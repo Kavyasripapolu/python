{
 "cells": [
  {
   "cell_type": "code",
   "execution_count": 2,
   "id": "9f1e6193-f4c0-4ea2-92dd-4b2e6be3063f",
   "metadata": {},
   "outputs": [
    {
     "name": "stdout",
     "output_type": "stream",
     "text": [
      "10\n"
     ]
    }
   ],
   "source": [
    "a=10\n",
    "print(a)"
   ]
  },
  {
   "cell_type": "code",
   "execution_count": 5,
   "id": "1ecaa2c0-b833-4f0a-81e7-413b47c1066a",
   "metadata": {},
   "outputs": [
    {
     "name": "stdout",
     "output_type": "stream",
     "text": [
      "10\n"
     ]
    }
   ],
   "source": [
    "A=10\n",
    "print(A)"
   ]
  },
  {
   "cell_type": "code",
   "execution_count": 7,
   "id": "518c8546-4c07-4e8d-9dba-f5b46d5820b9",
   "metadata": {},
   "outputs": [
    {
     "name": "stdout",
     "output_type": "stream",
     "text": [
      "10\n"
     ]
    }
   ],
   "source": [
    "_A=10\n",
    "print(_A)"
   ]
  },
  {
   "cell_type": "code",
   "execution_count": 11,
   "id": "86b1e640-df32-472f-a60f-2823140a8e4d",
   "metadata": {},
   "outputs": [
    {
     "name": "stdout",
     "output_type": "stream",
     "text": [
      "20\n"
     ]
    }
   ],
   "source": [
    "b=20\n",
    "print(b)"
   ]
  },
  {
   "cell_type": "code",
   "execution_count": 45,
   "id": "ca0748c0-a551-49a1-890c-2bac057aa8e2",
   "metadata": {},
   "outputs": [
    {
     "name": "stdout",
     "output_type": "stream",
     "text": [
      "20\n"
     ]
    }
   ],
   "source": [
    "B=20\n",
    "print(B)"
   ]
  },
  {
   "cell_type": "code",
   "execution_count": 15,
   "id": "87b5ee5e-a2ca-4871-bb4c-08c024f27f16",
   "metadata": {},
   "outputs": [
    {
     "name": "stdout",
     "output_type": "stream",
     "text": [
      "20\n"
     ]
    }
   ],
   "source": [
    "_B=20\n",
    "print(_B)"
   ]
  },
  {
   "cell_type": "code",
   "execution_count": 17,
   "id": "b035cfa1-5698-47ec-84c7-6e76070092d1",
   "metadata": {},
   "outputs": [
    {
     "name": "stdout",
     "output_type": "stream",
     "text": [
      "30\n"
     ]
    }
   ],
   "source": [
    "c=30\n",
    "print(c)"
   ]
  },
  {
   "cell_type": "code",
   "execution_count": 19,
   "id": "1d543074-f61d-49c8-b5a1-6ffde28889cd",
   "metadata": {},
   "outputs": [
    {
     "name": "stdout",
     "output_type": "stream",
     "text": [
      "30\n"
     ]
    }
   ],
   "source": [
    "C=30\n",
    "print(C)"
   ]
  },
  {
   "cell_type": "code",
   "execution_count": 21,
   "id": "85143068-a2b5-445c-908a-f517293f9a7b",
   "metadata": {},
   "outputs": [
    {
     "name": "stdout",
     "output_type": "stream",
     "text": [
      "30\n"
     ]
    }
   ],
   "source": [
    "_C=30\n",
    "print(_C)"
   ]
  },
  {
   "cell_type": "code",
   "execution_count": 23,
   "id": "ea6e0ba1-26d9-4b61-a363-ac6fd9c9bc22",
   "metadata": {},
   "outputs": [
    {
     "name": "stdout",
     "output_type": "stream",
     "text": [
      "40\n"
     ]
    }
   ],
   "source": [
    "d=40\n",
    "print(d)"
   ]
  },
  {
   "cell_type": "code",
   "execution_count": 25,
   "id": "c024ca0e-c0f5-4f91-ad69-ff4eeb2d2abb",
   "metadata": {},
   "outputs": [
    {
     "name": "stdout",
     "output_type": "stream",
     "text": [
      "40\n"
     ]
    }
   ],
   "source": [
    "D=40\n",
    "print(D)"
   ]
  },
  {
   "cell_type": "code",
   "execution_count": 27,
   "id": "6a674d22-989a-4638-af49-57f50527ca7b",
   "metadata": {},
   "outputs": [
    {
     "name": "stdout",
     "output_type": "stream",
     "text": [
      "40\n"
     ]
    }
   ],
   "source": [
    "_D=40\n",
    "print(_D)"
   ]
  },
  {
   "cell_type": "code",
   "execution_count": 29,
   "id": "cb84cce5-8f24-4682-a405-44ac67375257",
   "metadata": {},
   "outputs": [
    {
     "name": "stdout",
     "output_type": "stream",
     "text": [
      "50\n"
     ]
    }
   ],
   "source": [
    "e=50\n",
    "print(e)"
   ]
  },
  {
   "cell_type": "code",
   "execution_count": 31,
   "id": "dd018197-44c9-44ce-9f26-c8e1bc890781",
   "metadata": {},
   "outputs": [
    {
     "name": "stdout",
     "output_type": "stream",
     "text": [
      "50\n"
     ]
    }
   ],
   "source": [
    "E=50\n",
    "print(E)"
   ]
  },
  {
   "cell_type": "code",
   "execution_count": 33,
   "id": "6abbe8b6-3846-403d-9218-91352e941282",
   "metadata": {},
   "outputs": [
    {
     "name": "stdout",
     "output_type": "stream",
     "text": [
      "50\n"
     ]
    }
   ],
   "source": [
    "_E=50\n",
    "print(_E)"
   ]
  },
  {
   "cell_type": "code",
   "execution_count": 35,
   "id": "d72eda63-5bd2-4443-9ab0-988217e213a2",
   "metadata": {},
   "outputs": [
    {
     "name": "stdout",
     "output_type": "stream",
     "text": [
      "60\n"
     ]
    }
   ],
   "source": [
    "f=60\n",
    "print(f)"
   ]
  },
  {
   "cell_type": "code",
   "execution_count": 37,
   "id": "a0a11e1e-f4a5-4f3a-99c1-869dfdbe43b6",
   "metadata": {},
   "outputs": [
    {
     "name": "stdout",
     "output_type": "stream",
     "text": [
      "60\n"
     ]
    }
   ],
   "source": [
    "F=60\n",
    "print(F)"
   ]
  },
  {
   "cell_type": "code",
   "execution_count": 39,
   "id": "64660d29-40f4-4f67-b95f-c8eb7593be38",
   "metadata": {},
   "outputs": [
    {
     "name": "stdout",
     "output_type": "stream",
     "text": [
      "60\n"
     ]
    }
   ],
   "source": [
    "_F=60\n",
    "print(_F)"
   ]
  },
  {
   "cell_type": "code",
   "execution_count": 51,
   "id": "9ae3ec3a-9441-489c-a636-d2027aadb787",
   "metadata": {},
   "outputs": [
    {
     "name": "stdout",
     "output_type": "stream",
     "text": [
      "70\n"
     ]
    }
   ],
   "source": [
    "_=70\n",
    "print(_)"
   ]
  },
  {
   "cell_type": "code",
   "execution_count": 22,
   "id": "1673a82a-ad06-4071-8535-54fb3acade0a",
   "metadata": {},
   "outputs": [
    {
     "name": "stdout",
     "output_type": "stream",
     "text": [
      "70\n"
     ]
    }
   ],
   "source": [
    "_1=70\n",
    "print(_1)"
   ]
  },
  {
   "cell_type": "code",
   "execution_count": 47,
   "id": "3e16acd1-833e-47ba-8fcd-9720ed45e80e",
   "metadata": {},
   "outputs": [
    {
     "ename": "SyntaxError",
     "evalue": "invalid syntax (496493930.py, line 1)",
     "output_type": "error",
     "traceback": [
      "\u001b[0;36m  Cell \u001b[0;32mIn[47], line 1\u001b[0;36m\u001b[0m\n\u001b[0;31m    !=10\u001b[0m\n\u001b[0m    ^\u001b[0m\n\u001b[0;31mSyntaxError\u001b[0m\u001b[0;31m:\u001b[0m invalid syntax\n"
     ]
    }
   ],
   "source": [
    "!=10\n",
    "print(!)"
   ]
  },
  {
   "cell_type": "code",
   "execution_count": 24,
   "id": "38e63b20-b831-4051-a965-2a7a51bed8ef",
   "metadata": {},
   "outputs": [
    {
     "ename": "SyntaxError",
     "evalue": "invalid syntax (90125177.py, line 1)",
     "output_type": "error",
     "traceback": [
      "\u001b[0;36m  Cell \u001b[0;32mIn[24], line 1\u001b[0;36m\u001b[0m\n\u001b[0;31m    @=20\u001b[0m\n\u001b[0m    ^\u001b[0m\n\u001b[0;31mSyntaxError\u001b[0m\u001b[0;31m:\u001b[0m invalid syntax\n"
     ]
    }
   ],
   "source": [
    "@=20\n",
    "print(@)"
   ]
  },
  {
   "cell_type": "code",
   "execution_count": 26,
   "id": "95d74050-cceb-422b-a754-5f7d3c7955e8",
   "metadata": {},
   "outputs": [
    {
     "ename": "SyntaxError",
     "evalue": "incomplete input (2491615471.py, line 2)",
     "output_type": "error",
     "traceback": [
      "\u001b[0;36m  Cell \u001b[0;32mIn[26], line 2\u001b[0;36m\u001b[0m\n\u001b[0;31m    print(#)\u001b[0m\n\u001b[0m            ^\u001b[0m\n\u001b[0;31mSyntaxError\u001b[0m\u001b[0;31m:\u001b[0m incomplete input\n"
     ]
    }
   ],
   "source": [
    "#=30\n",
    "print(#)"
   ]
  },
  {
   "cell_type": "code",
   "execution_count": 28,
   "id": "0e52b36f-484b-4868-b0cc-46075c378217",
   "metadata": {},
   "outputs": [
    {
     "ename": "SyntaxError",
     "evalue": "invalid syntax (2634763949.py, line 1)",
     "output_type": "error",
     "traceback": [
      "\u001b[0;36m  Cell \u001b[0;32mIn[28], line 1\u001b[0;36m\u001b[0m\n\u001b[0;31m    $=40\u001b[0m\n\u001b[0m    ^\u001b[0m\n\u001b[0;31mSyntaxError\u001b[0m\u001b[0;31m:\u001b[0m invalid syntax\n"
     ]
    }
   ],
   "source": [
    "$=40\n",
    "print($)"
   ]
  },
  {
   "cell_type": "code",
   "execution_count": 30,
   "id": "29dc64d6-5887-40db-803b-2d0410f591c2",
   "metadata": {},
   "outputs": [
    {
     "ename": "SyntaxError",
     "evalue": "invalid syntax (1076341741.py, line 1)",
     "output_type": "error",
     "traceback": [
      "\u001b[0;36m  Cell \u001b[0;32mIn[30], line 1\u001b[0;36m\u001b[0m\n\u001b[0;31m    %=50\u001b[0m\n\u001b[0m    ^\u001b[0m\n\u001b[0;31mSyntaxError\u001b[0m\u001b[0;31m:\u001b[0m invalid syntax\n"
     ]
    }
   ],
   "source": [
    "%=50\n",
    "print(%)"
   ]
  },
  {
   "cell_type": "code",
   "execution_count": null,
   "id": "586f52fe-e597-4835-8ec0-bd3b300b32c5",
   "metadata": {},
   "outputs": [],
   "source": []
  }
 ],
 "metadata": {
  "kernelspec": {
   "display_name": "anaconda-panel-2023.05-py310",
   "language": "python",
   "name": "conda-env-anaconda-panel-2023.05-py310-py"
  },
  "language_info": {
   "codemirror_mode": {
    "name": "ipython",
    "version": 3
   },
   "file_extension": ".py",
   "mimetype": "text/x-python",
   "name": "python",
   "nbconvert_exporter": "python",
   "pygments_lexer": "ipython3",
   "version": "3.11.5"
  }
 },
 "nbformat": 4,
 "nbformat_minor": 5
}
