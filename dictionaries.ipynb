{
 "cells": [
  {
   "cell_type": "code",
   "execution_count": 1,
   "id": "c05aa448-95d5-4058-99f2-7cd9743501ee",
   "metadata": {},
   "outputs": [
    {
     "data": {
      "text/plain": [
       "{'name': 'kavya', 'age': '21', 'grade': 'A'}"
      ]
     },
     "execution_count": 1,
     "metadata": {},
     "output_type": "execute_result"
    }
   ],
   "source": [
    "student = {'name' :'kavya','age' : '21','grade' : 'A'}\n",
    "student"
   ]
  },
  {
   "cell_type": "code",
   "execution_count": 1,
   "id": "fa35d41e-a6eb-4039-873b-0f6f58f54d80",
   "metadata": {},
   "outputs": [
    {
     "data": {
      "text/plain": [
       "{'name': 'vamsi', 'age': 30, 'grades': [12, 23, 34]}"
      ]
     },
     "execution_count": 1,
     "metadata": {},
     "output_type": "execute_result"
    }
   ],
   "source": [
    "mixed_dict = {'name':'vamsi','age':30,'grades':[12,23,34]}\n",
    "mixed_dict"
   ]
  },
  {
   "cell_type": "code",
   "execution_count": 33,
   "id": "e98f5601-9ebe-4231-9e8a-371a6e58d6a5",
   "metadata": {},
   "outputs": [
    {
     "name": "stdout",
     "output_type": "stream",
     "text": [
      "[12, 23, 34]\n"
     ]
    }
   ],
   "source": [
    "print(mixed_dict['grades'])"
   ]
  },
  {
   "cell_type": "code",
   "execution_count": 43,
   "id": "4570af1a-e063-4f30-8d8b-a3b69696648a",
   "metadata": {},
   "outputs": [
    {
     "name": "stdout",
     "output_type": "stream",
     "text": [
      "{'name': 'kavya', 'age': 22, 'mobilenum': '6281848165', 'grade': 'A', 'gender': 'female'}\n"
     ]
    }
   ],
   "source": [
    "#modifying and adding\n",
    "student={\n",
    "    'name':'kavya',\n",
    "    'age':21,\n",
    "    'mobilenum':'6281848165',\n",
    "    'grade': 'A'\n",
    "}\n",
    "student['age']=22\n",
    "#adding\n",
    "\n",
    "student['gender'] = 'female'\n",
    "student['qualification'] : 'B.Tech'\n",
    "print(student)"
   ]
  },
  {
   "cell_type": "code",
   "execution_count": 47,
   "id": "58f5081f-072a-41f2-9ebe-393b92fa5b78",
   "metadata": {},
   "outputs": [
    {
     "name": "stdout",
     "output_type": "stream",
     "text": [
      "A\n",
      "female\n",
      "no value\n"
     ]
    }
   ],
   "source": [
    "#dictionary methods\n",
    "g=student.get('grade')\n",
    "gender = student.get('gender','not specified')\n",
    "h= student.get('location','no value')\n",
    "print(g)\n",
    "print(gender)\n",
    "print(h)"
   ]
  },
  {
   "cell_type": "code",
   "execution_count": 51,
   "id": "c8fc10cb-8b73-4279-beef-c828a3f1a308",
   "metadata": {},
   "outputs": [
    {
     "name": "stdout",
     "output_type": "stream",
     "text": [
      "dict_keys(['name', 'age', 'mobilenum', 'grade', 'gender'])\n"
     ]
    }
   ],
   "source": [
    "keys= student.keys()\n",
    "print(keys)"
   ]
  },
  {
   "cell_type": "code",
   "execution_count": 53,
   "id": "b85aca71-2cf4-4fec-8457-7d94a796c8ef",
   "metadata": {},
   "outputs": [
    {
     "name": "stdout",
     "output_type": "stream",
     "text": [
      "dict_values(['kavya', 22, '6281848165', 'A', 'female'])\n"
     ]
    }
   ],
   "source": [
    "values= student.values()\n",
    "print(values)"
   ]
  },
  {
   "cell_type": "code",
   "execution_count": 55,
   "id": "21eb457b-151f-427e-9a98-d09dfa54a38a",
   "metadata": {},
   "outputs": [
    {
     "name": "stdout",
     "output_type": "stream",
     "text": [
      "dict_items([('name', 'kavya'), ('age', 22), ('mobilenum', '6281848165'), ('grade', 'A'), ('gender', 'female')])\n"
     ]
    }
   ],
   "source": [
    "items=student.items()\n",
    "print(items)"
   ]
  },
  {
   "cell_type": "code",
   "execution_count": 67,
   "id": "e2b6f982-c76e-4f7a-894d-a95f281083dc",
   "metadata": {},
   "outputs": [
    {
     "name": "stdout",
     "output_type": "stream",
     "text": [
      "{'name': 'kavya', 'age': 22, 'mobilenum': '6281848165', 'grade': 'A', 'gender': 'female'}\n",
      "('gender', 'female')\n"
     ]
    }
   ],
   "source": [
    "print(student)\n",
    "last_item=student.popitem()\n",
    "print(last_item)"
   ]
  },
  {
   "cell_type": "code",
   "execution_count": 83,
   "id": "41e24aeb-e694-488a-962f-adc69463e94b",
   "metadata": {},
   "outputs": [
    {
     "name": "stdout",
     "output_type": "stream",
     "text": [
      "30\n"
     ]
    }
   ],
   "source": [
    "mixed_dict = {'name':'vamsi','age':30,'grades':[12,23,34]}\n",
    "age = mixed_dict.pop('age')\n",
    "print(age)"
   ]
  },
  {
   "cell_type": "code",
   "execution_count": null,
   "id": "ecddec26-8089-4275-8d48-b28b55167a68",
   "metadata": {},
   "outputs": [],
   "source": []
  }
 ],
 "metadata": {
  "kernelspec": {
   "display_name": "Python 3 (ipykernel)",
   "language": "python",
   "name": "python3"
  },
  "language_info": {
   "codemirror_mode": {
    "name": "ipython",
    "version": 3
   },
   "file_extension": ".py",
   "mimetype": "text/x-python",
   "name": "python",
   "nbconvert_exporter": "python",
   "pygments_lexer": "ipython3",
   "version": "3.12.4"
  }
 },
 "nbformat": 4,
 "nbformat_minor": 5
}
