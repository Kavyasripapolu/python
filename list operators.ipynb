{
 "cells": [
  {
   "cell_type": "code",
   "execution_count": 13,
   "id": "4408a041-8e16-42fc-9ba9-9585420a9872",
   "metadata": {},
   "outputs": [
    {
     "name": "stdout",
     "output_type": "stream",
     "text": [
      "[]\n"
     ]
    }
   ],
   "source": [
    "#empty list\n",
    "my_list =[]\n",
    "print(my_list)"
   ]
  },
  {
   "cell_type": "code",
   "execution_count": 5,
   "id": "66b96b2d-f9b3-45ba-be52-c4132f1c5532",
   "metadata": {},
   "outputs": [
    {
     "name": "stdout",
     "output_type": "stream",
     "text": [
      "[1, 2, 3, 4, 5]\n",
      "['apple', 'banana', 'cherry']\n",
      "[1, 'apple', 3.14, True]\n"
     ]
    }
   ],
   "source": [
    "numbers = [1,2,3,4,5]\n",
    "names = [\"apple\", \"banana\",\"cherry\"]\n",
    "mixed_types = [1,\"apple\",3.14,True]\n",
    "print(numbers)\n",
    "print(names)\n",
    "print(mixed_types)"
   ]
  },
  {
   "cell_type": "code",
   "execution_count": 15,
   "id": "bc3be7d1-e89f-4b78-9bcb-ebf2edd4217b",
   "metadata": {},
   "outputs": [
    {
     "name": "stdout",
     "output_type": "stream",
     "text": [
      "<class 'list'>\n",
      "<class 'list'>\n",
      "<class 'list'>\n"
     ]
    }
   ],
   "source": [
    "#class of list\n",
    "numbers = [1,2,3,4,5]\n",
    "names = [\"apple\", \"banana\",\"cherry\"]\n",
    "mixed_types = [1,\"apple\",3.14,True]\n",
    "print(type(numbers))\n",
    "print(type(names))\n",
    "print(type(mixed_types))"
   ]
  },
  {
   "cell_type": "code",
   "execution_count": 17,
   "id": "865ea1d1-6eb0-45bd-91ea-cd147b0645a0",
   "metadata": {},
   "outputs": [
    {
     "name": "stdout",
     "output_type": "stream",
     "text": [
      "10\n",
      "6\n",
      "1\n",
      "70\n"
     ]
    }
   ],
   "source": [
    "#creating list with numbers\n",
    "list1 = [1,2,3,4,5,6,7,8,9,10]\n",
    "list2 = [2,4,6,8,10,12,14,16,18]\n",
    "list3 = [1,3,5,7,9,11,13,15,17,19]\n",
    "list4 = [10,20,30,40,50,60,70,80]\n",
    "print(list1[9])\n",
    "print(list2[-7])\n",
    "print(list3[0])\n",
    "print(list4[-2])"
   ]
  },
  {
   "cell_type": "code",
   "execution_count": 19,
   "id": "4ee9076d-8d4f-44e3-b97a-d72236a88be0",
   "metadata": {},
   "outputs": [
    {
     "name": "stdout",
     "output_type": "stream",
     "text": [
      "p\n",
      "s\n",
      "c\n"
     ]
    }
   ],
   "source": [
    "#creating list with strings\n",
    "batch_1 = ['q','w','e','r','t','y','u','i','o','p']\n",
    "batch_2 = ['a','s','d','f','g','h','j','k','l',]\n",
    "batch_3 = ['z','x','c','v','b','n','m']\n",
    "print(batch_1[9])\n",
    "print(batch_2[1])\n",
    "print(batch_3[-5])"
   ]
  },
  {
   "cell_type": "code",
   "execution_count": 25,
   "id": "585d6a02-ad9e-4698-992b-317dd7d15824",
   "metadata": {},
   "outputs": [
    {
     "name": "stdout",
     "output_type": "stream",
     "text": [
      "[6, 7, 8]\n",
      "[2, 4, 6, 8, 10, 12, 14]\n",
      "[9, 11, 13, 15, 17, 19]\n",
      "[10, 20, 30, 40, 50, 60, 70, 80]\n",
      "['y', 'u', 'i', 'o']\n",
      "['a', 's', 'd']\n",
      "['c', 'v', 'b', 'n', 'm']\n"
     ]
    }
   ],
   "source": [
    "#slicing\n",
    "#numbers\n",
    "list1 = [1,2,3,4,5,6,7,8,9,10]\n",
    "list2 = [2,4,6,8,10,12,14,16,18]\n",
    "list3 = [1,3,5,7,9,11,13,15,17,19]\n",
    "list4 = [10,20,30,40,50,60,70,80]\n",
    "print(list1[5:8])\n",
    "print(list2[:7])\n",
    "print(list3[4:])\n",
    "print(list4[:])\n",
    "#strings\n",
    "batch_1 = ['q','w','e','r','t','y','u','i','o','p']\n",
    "batch_2 = ['a','s','d','f','g','h','j','k','l',]\n",
    "batch_3 = ['z','x','c','v','b','n','m']\n",
    "print(batch_1[5:9])\n",
    "print(batch_2[:3])\n",
    "print(batch_3[2:])"
   ]
  },
  {
   "cell_type": "code",
   "execution_count": 29,
   "id": "6740d817-35fc-49c1-9708-462aa1ed7f38",
   "metadata": {},
   "outputs": [
    {
     "name": "stdout",
     "output_type": "stream",
     "text": [
      "[1, 2, 3, 4, 5, 6, 7, 8, 9, 10, 2, 4, 6, 8, 10, 12, 14, 16, 18]\n",
      "[1, 3, 5, 7, 9, 11, 13, 15, 17, 19, 10, 20, 30, 40, 50, 60, 70, 80]\n",
      "['q', 'w', 'e', 'r', 't', 'y', 'u', 'i', 'o', 'p', 'a', 's', 'd', 'f', 'g', 'h', 'j', 'k', 'l']\n",
      "['z', 'x', 'c', 'v', 'b', 'n', 'm', 'q', 'w', 'e', 'r', 't', 'y', 'u', 'i', 'o', 'p']\n"
     ]
    }
   ],
   "source": [
    "#list Operators\n",
    "#Concatenation\n",
    "print(list1 + list2)\n",
    "print(list3 + list4)\n",
    "print(batch_1 + batch_2)\n",
    "print(batch_3 + batch_1)"
   ]
  },
  {
   "cell_type": "code",
   "execution_count": 31,
   "id": "e10c8467-5970-4d38-8080-bc322d297118",
   "metadata": {},
   "outputs": [
    {
     "name": "stdout",
     "output_type": "stream",
     "text": [
      "[1, 2, 3, 4, 5, 6]\n",
      "[2, 4, 6, 8, 10, 12, 2, 4, 6, 8, 10, 12, 2, 4, 6, 8, 10, 12]\n",
      "[1, 3, 5, 7, 9, 11, 13, 1, 3, 5, 7, 9, 11, 13, 1, 3, 5, 7, 9, 11, 13, 1, 3, 5, 7, 9, 11, 13, 1, 3, 5, 7, 9, 11, 13]\n",
      "[10, 20, 30, 40, 50, 10, 20, 30, 40, 50, 10, 20, 30, 40, 50, 10, 20, 30, 40, 50, 10, 20, 30, 40, 50, 10, 20, 30, 40, 50, 10, 20, 30, 40, 50]\n",
      "['q', 'w', 'e', 'r', 't', 'y', 'q', 'w', 'e', 'r', 't', 'y']\n",
      "['a', 's', 'd', 'a', 's', 'd', 'a', 's', 'd', 'a', 's', 'd']\n",
      "['z', 'x', 'c', 'v', 'b', 'z', 'x', 'c', 'v', 'b', 'z', 'x', 'c', 'v', 'b', 'z', 'x', 'c', 'v', 'b', 'z', 'x', 'c', 'v', 'b', 'z', 'x', 'c', 'v', 'b']\n"
     ]
    }
   ],
   "source": [
    "#repetition\n",
    "#numbers\n",
    "list1 = [1,2,3,4,5,6]\n",
    "list2 = [2,4,6,8,10,12]\n",
    "list3 = [1,3,5,7,9,11,13]\n",
    "list4 = [10,20,30,40,50]\n",
    "print(list1*1)\n",
    "print(list2*3)\n",
    "print(list3*5)\n",
    "print(list4*7)\n",
    "#stings\n",
    "batch_1 = ['q','w','e','r','t','y']\n",
    "batch_2 = ['a','s','d']\n",
    "batch_3 = ['z','x','c','v','b']\n",
    "print(batch_1*2)\n",
    "print(batch_2*4)\n",
    "print(batch_3*6)"
   ]
  },
  {
   "cell_type": "code",
   "execution_count": 49,
   "id": "a7ba9d2e-a2cd-4c5d-9a91-9732ab3b986e",
   "metadata": {},
   "outputs": [
    {
     "name": "stdout",
     "output_type": "stream",
     "text": [
      "[1, 2, 3, 4, 5, 12, 7, 8, 9, 10]\n",
      "[2, 4, 6, 4, 10, 12, 14, 16, 18]\n",
      "[1, 3, 5, 7, 1, 2, 3, 17, 19]\n",
      "[10, 20, 30, 9, 7, 2, 70, 80]\n",
      "['q', 'w', 'e', 'r', 'ka', 'y', 'u', 'i', 'o', 'p']\n",
      "['a', 's', 'd', 'f', 'g', 'v', 'j', 'k', 'l']\n",
      "['z', 'x', 'c', 'y', 's', 't', 'z']\n"
     ]
    }
   ],
   "source": [
    "#change the item in list\n",
    "#numbers\n",
    "list1 = [1,2,3,4,5,6,7,8,9,10]\n",
    "list2 = [2,4,6,8,10,12,14,16,18]\n",
    "list3 = [1,3,5,7,9,11,13,15,17,19]\n",
    "list4 = [10,20,30,40,50,60,70,80]\n",
    "list1[5] = 12\n",
    "list2[3] = 4\n",
    "list3[4:8] = [1,2,3]\n",
    "list4[3:6] =[9,7,2]\n",
    "print(list1)\n",
    "print(list2)\n",
    "print(list3)\n",
    "print(list4)\n",
    "#stings\n",
    "batch_1 = ['q','w','e','r','t','y','u','i','o','p']\n",
    "batch_2 = ['a','s','d','f','g','h','j','k','l']\n",
    "batch_3 = ['z','x','c','v','b','n','m']\n",
    "batch_1[4] = 'ka'\n",
    "batch_2[5] = 'v'\n",
    "batch_3[3:7] = ['y','s','t','z']\n",
    "print(batch_1)\n",
    "print(batch_2)\n",
    "print(batch_3)"
   ]
  },
  {
   "cell_type": "code",
   "execution_count": 51,
   "id": "88d5db46-43cb-4fe4-96d4-059327676459",
   "metadata": {},
   "outputs": [
    {
     "name": "stdout",
     "output_type": "stream",
     "text": [
      "[1, 2, 3, 4, 5, 6, 7, 8, 9, 10, 11]\n",
      "[2, 4, 6, 8, 10, 12, 14, 16, 18, 19]\n",
      "['q', 'w', 'e', 'r', 't', 'y', 'u', 'i', 'o', 'p', 'q']\n",
      "['a', 's', 'd', 'f', 'g', 'h', 'j', 'k', 'l', 'm']\n"
     ]
    }
   ],
   "source": [
    "#list methods\n",
    "#append\n",
    "#numbers\n",
    "list1 = [1,2,3,4,5,6,7,8,9,10]\n",
    "list2 = [2,4,6,8,10,12,14,16,18]\n",
    "list1.append(11)\n",
    "list2.append(19)\n",
    "print(list1)\n",
    "print(list2)\n",
    "#strings\n",
    "batch_1 = ['q','w','e','r','t','y','u','i','o','p']\n",
    "batch_2 = ['a','s','d','f','g','h','j','k','l',]\n",
    "batch_1.append('q')\n",
    "batch_2.append('m')\n",
    "print(batch_1)\n",
    "print(batch_2)"
   ]
  },
  {
   "cell_type": "code",
   "execution_count": 61,
   "id": "6286d1cf-e83e-461b-9dbb-6bf13a83c93c",
   "metadata": {},
   "outputs": [
    {
     "name": "stdout",
     "output_type": "stream",
     "text": [
      "[1, 2, 3, 4, 5, 6, 7, 8, 9, 10, 11, 12, 13, 14, 15]\n",
      "[2, 4, 6, 8, 10, 12, 14, 16, 18, 19, 20, 21, 22, 23]\n",
      "['q', 'w', 'e', 'r', 't', 'y', 'u', 'i', 'o', 'p', 'a', 's', 'd']\n",
      "['a', 's', 'd', 'f', 'g', 'h', 'j', 'k', 'l', 'k', 'a', 'v', 'y', 'a']\n"
     ]
    }
   ],
   "source": [
    "#extend\n",
    "#numbers\n",
    "list1 = [1,2,3,4,5,6,7,8,9,10]\n",
    "more_numbers = [11,12,13,14,15]\n",
    "list1.extend(more_numbers)\n",
    "print(list1)\n",
    "list2 = [2,4,6,8,10,12,14,16,18]\n",
    "more_numbers = [ 19,20,21,22,23]\n",
    "list2.extend(more_numbers)\n",
    "print(list2)\n",
    "#strings\n",
    "batch_1 = ['q','w','e','r','t','y','u','i','o','p']\n",
    "more_names = ['a','s','d']\n",
    "batch_1.extend(more_names)\n",
    "print(batch_1)\n",
    "batch_2 = ['a','s','d','f','g','h','j','k','l',]\n",
    "more_names = ['k','a','v','y','a']\n",
    "batch_2.extend(more_names)\n",
    "print(batch_2)"
   ]
  },
  {
   "cell_type": "code",
   "execution_count": 69,
   "id": "09b8a0a1-e26d-4ca5-81df-db417e9a0a1c",
   "metadata": {},
   "outputs": [
    {
     "name": "stdout",
     "output_type": "stream",
     "text": [
      "[1, 2, 3, 4, 5, 7, 6, 7, 8, 9, 10]\n",
      "[2, 4, 6, 9, 8, 10, 12, 14, 16, 18]\n"
     ]
    }
   ],
   "source": [
    "#insert\n",
    "#numbers\n",
    "list1 = [1,2,3,4,5,6,7,8,9,10]\n",
    "list1.insert(5,7)\n",
    "print(list1)\n",
    "list2 = [2,4,6,8,10,12,14,16,18]\n",
    "list2.insert(3,9)\n",
    "print(list2)\n"
   ]
  },
  {
   "cell_type": "code",
   "execution_count": 71,
   "id": "0a858952-f81e-4cd9-b18e-995b041cf94d",
   "metadata": {},
   "outputs": [
    {
     "name": "stdout",
     "output_type": "stream",
     "text": [
      "[1, 2, 3, 4, 5, 6, 7, 8, 9]\n",
      "[2, 4, 6, 8, 10, 12, 14, 16]\n",
      "['q', 'w', 'e', 'r', 't', 'y', 'u', 'i', 'o']\n",
      "['a', 's', 'd', 'f', 'g', 'h', 'j', 'k']\n"
     ]
    }
   ],
   "source": [
    "#remove\n",
    "#numbers\n",
    "list1 = [1,2,3,4,5,6,7,8,9,10]\n",
    "list2 = [2,4,6,8,10,12,14,16,18]\n",
    "list1.remove(10)\n",
    "list2.remove(18)\n",
    "print(list1)\n",
    "print(list2)\n",
    "#strings\n",
    "batch_1 = ['q','w','e','r','t','y','u','i','o','p']\n",
    "batch_2 = ['a','s','d','f','g','h','j','k','l',]\n",
    "batch_1.remove('p')\n",
    "batch_2.remove('l')\n",
    "print(batch_1)\n",
    "print(batch_2)"
   ]
  },
  {
   "cell_type": "code",
   "execution_count": 87,
   "id": "8dab4d82-d4c6-40ad-ba85-ba27b21131a1",
   "metadata": {},
   "outputs": [
    {
     "name": "stdout",
     "output_type": "stream",
     "text": [
      "[1, 2, 3, 5, 6, 7, 8, 9, 10]\n",
      "4\n",
      "[2, 4, 6, 8, 10, 14, 16, 18]\n",
      "12\n",
      "['q', 'w', 'e', 'r', 't', 'y', 'u', 'i', 'o']\n",
      "p\n",
      "['a', 's', 'd', 'f', 'g', 'h', 'j', 'l']\n",
      "k\n"
     ]
    }
   ],
   "source": [
    "#pop\n",
    "#numbers\n",
    "list1 = [1,2,3,4,5,6,7,8,9,10]\n",
    "popped_element = list1.pop(3)\n",
    "print(list1)\n",
    "print(popped_element)\n",
    "list2 = [2,4,6,8,10,12,14,16,18]\n",
    "popped_element = list2.pop(5)\n",
    "print(list2)\n",
    "print(popped_element)\n",
    "#strings\n",
    "batch_1 = ['q','w','e','r','t','y','u','i','o','p']\n",
    "popped_element = batch_1.pop(9)\n",
    "print(batch_1)\n",
    "print(popped_element)\n",
    "batch_2 = ['a','s','d','f','g','h','j','k','l']\n",
    "popped_element = batch_2.pop(7)\n",
    "print(batch_2)\n",
    "print(popped_element)"
   ]
  },
  {
   "cell_type": "code",
   "execution_count": 9,
   "id": "c9123e45-11e6-4335-871d-14f25895600f",
   "metadata": {},
   "outputs": [
    {
     "name": "stdout",
     "output_type": "stream",
     "text": [
      "8\n",
      "4\n",
      "5\n",
      "4\n"
     ]
    }
   ],
   "source": [
    "#index\n",
    "#numbers\n",
    "list1 = [1,2,3,4,5,6,7,8,9,10]\n",
    "index = list1.index(9)\n",
    "print(index)\n",
    "list2 = [2,4,6,8,10,12,14,16,18]\n",
    "index = list2.index(10)\n",
    "print(index)\n",
    "#strings\n",
    "batch_1 = ['q','w','e','r','t','y','u','i','o','p']\n",
    "index = batch_1.index('y')\n",
    "print(index)\n",
    "batch_2 = ['a','s','d','f','g','h','j','k','l']\n",
    "index = batch_2.index('g')\n",
    "print(index)"
   ]
  },
  {
   "cell_type": "code",
   "execution_count": 13,
   "id": "2a0504fb-8676-40bb-9ffd-9d802d42b4bd",
   "metadata": {},
   "outputs": [
    {
     "name": "stdout",
     "output_type": "stream",
     "text": [
      "7\n",
      "7\n",
      "4\n",
      "4\n"
     ]
    }
   ],
   "source": [
    "#count\n",
    "#numbers\n",
    "list1 = [1,2,3,4,5,6,7,8,9,10,6,4,5,6,6,4,7,4,6,6,6]\n",
    "count = list1.count(6)\n",
    "print(count)\n",
    "list2 = [2,4,6,8,10,12,14,16,18,10,12,12,12,7,14,12,16,18,12,12]\n",
    "count = list2.count(12)\n",
    "print(count)\n",
    "#strings\n",
    "batch_1 = ['q','w','e','r','t','y','u','i','o','p','q','r','y','q','g','q']\n",
    "count = batch_1.count('q')\n",
    "print(count)\n",
    "batch_2 = ['a','s','d','f','g','h','j','k','l','k','l','a','k']\n",
    "index = batch_2.count('k')\n",
    "print(count)"
   ]
  },
  {
   "cell_type": "code",
   "execution_count": 21,
   "id": "4045dc1b-488b-4c1f-86f6-ac759cbacc83",
   "metadata": {},
   "outputs": [
    {
     "name": "stdout",
     "output_type": "stream",
     "text": [
      "[1, 2, 2, 3, 4, 4, 5, 6, 6, 7, 8, 8, 9, 10, 10, 12, 14, 16, 18]\n",
      "[1, 3, 5, 7, 9, 10, 11, 13, 15, 17, 19, 20, 30, 40, 50, 60, 70, 80]\n",
      "['e', 'g', 'i', 'o', 'p', 'q', 'q', 'q', 'q', 'r', 'r', 't', 'u', 'w', 'y', 'y']\n",
      "['a', 'a', 'd', 'f', 'g', 'h', 'j', 'k', 'k', 'k', 'l', 'l', 's']\n"
     ]
    }
   ],
   "source": [
    "#sort\n",
    "#numbers\n",
    "list1 = [1,2,3,4,5,2,4,6,8,10,12,14,16,18,6,7,8,9,10]\n",
    "list1.sort()\n",
    "print(list1)\n",
    "list2 = [1,3,5,7,9,11,10,20,30,40,50,60,70,80,13,15,17,19]\n",
    "list2.sort()\n",
    "print(list2)\n",
    "#strings\n",
    "batch_1 = ['q','w','e','r','t','y','u','i','o','p','q','r','y','q','g','q']\n",
    "batch_1.sort()\n",
    "print(batch_1)\n",
    "batch_2 = ['a','s','d','f','g','h','j','k','l','k','l','a','k']\n",
    "batch_2.sort()\n",
    "print(batch_2)"
   ]
  },
  {
   "cell_type": "code",
   "execution_count": 23,
   "id": "633423e9-c3c8-49a5-87bc-beae5d345c47",
   "metadata": {},
   "outputs": [
    {
     "name": "stdout",
     "output_type": "stream",
     "text": [
      "[10, 9, 8, 7, 6, 18, 16, 14, 12, 10, 8, 6, 4, 2, 5, 4, 3, 2, 1]\n",
      "[19, 17, 15, 13, 80, 70, 60, 50, 40, 30, 20, 10, 11, 9, 7, 5, 3, 1]\n",
      "['q', 'g', 'q', 'y', 'r', 'q', 'p', 'o', 'i', 'u', 'y', 't', 'r', 'e', 'w', 'q']\n",
      "['k', 'a', 'l', 'k', 'l', 'k', 'j', 'h', 'g', 'f', 'd', 's', 'a']\n"
     ]
    }
   ],
   "source": [
    "#reverse\n",
    "#numbers\n",
    "list1 = [1,2,3,4,5,2,4,6,8,10,12,14,16,18,6,7,8,9,10]\n",
    "list1.reverse()\n",
    "print(list1)\n",
    "list2 = [1,3,5,7,9,11,10,20,30,40,50,60,70,80,13,15,17,19]\n",
    "list2.reverse()\n",
    "print(list2)\n",
    "#strings\n",
    "batch_1 = ['q','w','e','r','t','y','u','i','o','p','q','r','y','q','g','q']\n",
    "batch_1.reverse()\n",
    "print(batch_1)\n",
    "batch_2 = ['a','s','d','f','g','h','j','k','l','k','l','a','k']\n",
    "batch_2.reverse()\n",
    "print(batch_2)"
   ]
  }
 ],
 "metadata": {
  "kernelspec": {
   "display_name": "Python 3 (ipykernel)",
   "language": "python",
   "name": "python3"
  },
  "language_info": {
   "codemirror_mode": {
    "name": "ipython",
    "version": 3
   },
   "file_extension": ".py",
   "mimetype": "text/x-python",
   "name": "python",
   "nbconvert_exporter": "python",
   "pygments_lexer": "ipython3",
   "version": "3.12.4"
  }
 },
 "nbformat": 4,
 "nbformat_minor": 5
}
