{
 "cells": [
  {
   "cell_type": "code",
   "execution_count": 3,
   "id": "d9aea790-ad4f-42c7-9631-5f45b04456ff",
   "metadata": {},
   "outputs": [
    {
     "name": "stdout",
     "output_type": "stream",
     "text": [
      "<class 'int'>\n",
      "<class 'float'>\n",
      "<class 'complex'>\n"
     ]
    }
   ],
   "source": [
    "x=9\n",
    "y=9.99\n",
    "z=9j\n",
    "print(type(x))\n",
    "print(type(y))\n",
    "print(type(z))"
   ]
  },
  {
   "cell_type": "code",
   "execution_count": 7,
   "id": "c66a48cf-4292-4f76-bf29-aa66c59e86b8",
   "metadata": {},
   "outputs": [
    {
     "name": "stdout",
     "output_type": "stream",
     "text": [
      "9.0\n",
      "9\n",
      "(9+0j)\n",
      "(9.99+0j)\n"
     ]
    }
   ],
   "source": [
    "x=9\n",
    "y=9.99\n",
    "z=9j\n",
    "a=float(x)\n",
    "b=int(y)\n",
    "c=complex(x)\n",
    "d=complex(y)\n",
    "print(a)\n",
    "print(b)\n",
    "print(c)\n",
    "print(d)"
   ]
  },
  {
   "cell_type": "code",
   "execution_count": 10,
   "id": "db26f453-9840-4fda-829b-18fa907c3fda",
   "metadata": {},
   "outputs": [
    {
     "ename": "TypeError",
     "evalue": "float() argument must be a string or a real number, not 'complex'",
     "output_type": "error",
     "traceback": [
      "\u001b[0;31m---------------------------------------------------------------------------\u001b[0m",
      "\u001b[0;31mTypeError\u001b[0m                                 Traceback (most recent call last)",
      "Cell \u001b[0;32mIn[10], line 4\u001b[0m\n\u001b[1;32m      2\u001b[0m y\u001b[38;5;241m=\u001b[39m\u001b[38;5;241m9.99\u001b[39m\n\u001b[1;32m      3\u001b[0m z\u001b[38;5;241m=\u001b[39m\u001b[38;5;241m9\u001b[39m\n\u001b[0;32m----> 4\u001b[0m a\u001b[38;5;241m=\u001b[39m\u001b[38;5;28mfloat\u001b[39m(x)\n\u001b[1;32m      5\u001b[0m b\u001b[38;5;241m=\u001b[39m\u001b[38;5;28mint\u001b[39m(y)\n\u001b[1;32m      6\u001b[0m c\u001b[38;5;241m=\u001b[39m\u001b[38;5;28mcomplex\u001b[39m(x)\n",
      "\u001b[0;31mTypeError\u001b[0m: float() argument must be a string or a real number, not 'complex'"
     ]
    }
   ],
   "source": [
    "x=9j\n",
    "y=9.99\n",
    "z=9\n",
    "a=float(x)\n",
    "b=int(y)\n",
    "c=complex(x)\n",
    "d=complex(y)\n",
    "print(a)\n",
    "print(b)\n",
    "print(c)\n",
    "print(d)"
   ]
  },
  {
   "cell_type": "code",
   "execution_count": 12,
   "id": "3c626222-6adc-45ea-8825-74ca74bfa825",
   "metadata": {},
   "outputs": [
    {
     "name": "stdout",
     "output_type": "stream",
     "text": [
      "7.0\n",
      "7\n",
      "(7+0j)\n",
      "(7.77+0j)\n"
     ]
    }
   ],
   "source": [
    "x=7\n",
    "y=7.77\n",
    "z=7j\n",
    "a=float(x)\n",
    "b=int(y)\n",
    "c=complex(x)\n",
    "d=complex(y)\n",
    "print(a)\n",
    "print(b)\n",
    "print(c)\n",
    "print(d)"
   ]
  },
  {
   "cell_type": "code",
   "execution_count": 14,
   "id": "c1cd7529-cef7-4bf4-b0df-784cdc84fea8",
   "metadata": {},
   "outputs": [
    {
     "name": "stdout",
     "output_type": "stream",
     "text": [
      "2.0\n",
      "2\n",
      "(2+0j)\n",
      "(2.22+0j)\n"
     ]
    }
   ],
   "source": [
    "x=2\n",
    "y=2.22\n",
    "z=2j\n",
    "a=float(x)\n",
    "b=int(y)\n",
    "c=complex(x)\n",
    "d=complex(y)\n",
    "print(a)\n",
    "print(b)\n",
    "print(c)\n",
    "print(d)"
   ]
  },
  {
   "cell_type": "code",
   "execution_count": 16,
   "id": "f3a87787-3104-4210-84fb-9c1761497b61",
   "metadata": {},
   "outputs": [
    {
     "name": "stdout",
     "output_type": "stream",
     "text": [
      "13.0\n",
      "13\n",
      "(13+0j)\n",
      "(13.1313+0j)\n"
     ]
    }
   ],
   "source": [
    "x=13\n",
    "y=13.1313\n",
    "z=13j\n",
    "a=float(x)\n",
    "b=int(y)\n",
    "c=complex(x)\n",
    "d=complex(y)\n",
    "print(a)\n",
    "print(b)\n",
    "print(c)\n",
    "print(d)"
   ]
  },
  {
   "cell_type": "code",
   "execution_count": 18,
   "id": "aad73235-9e43-4ebc-9822-34077ca02b73",
   "metadata": {},
   "outputs": [
    {
     "name": "stdout",
     "output_type": "stream",
     "text": [
      "5.0\n",
      "5\n",
      "(5+0j)\n",
      "(5.55+0j)\n"
     ]
    }
   ],
   "source": [
    "x=5\n",
    "y=5.55\n",
    "z=5j\n",
    "a=float(x)\n",
    "b=int(y)\n",
    "c=complex(x)\n",
    "d=complex(y)\n",
    "print(a)\n",
    "print(b)\n",
    "print(c)\n",
    "print(d)"
   ]
  },
  {
   "cell_type": "code",
   "execution_count": 20,
   "id": "d4134007-8618-42b9-afbb-bcb3df697d9d",
   "metadata": {},
   "outputs": [
    {
     "name": "stdout",
     "output_type": "stream",
     "text": [
      "12.0\n",
      "143\n",
      "(12+0j)\n",
      "(143.99+0j)\n"
     ]
    }
   ],
   "source": [
    "x=12\n",
    "y=143.99\n",
    "z=45j\n",
    "a=float(x)\n",
    "b=int(y)\n",
    "c=complex(x)\n",
    "d=complex(y)\n",
    "print(a)\n",
    "print(b)\n",
    "print(c)\n",
    "print(d)"
   ]
  }
 ],
 "metadata": {
  "kernelspec": {
   "display_name": "anaconda-panel-2023.05-py310",
   "language": "python",
   "name": "conda-env-anaconda-panel-2023.05-py310-py"
  },
  "language_info": {
   "codemirror_mode": {
    "name": "ipython",
    "version": 3
   },
   "file_extension": ".py",
   "mimetype": "text/x-python",
   "name": "python",
   "nbconvert_exporter": "python",
   "pygments_lexer": "ipython3",
   "version": "3.11.5"
  }
 },
 "nbformat": 4,
 "nbformat_minor": 5
}
