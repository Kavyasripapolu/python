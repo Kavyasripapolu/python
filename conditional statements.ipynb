{
 "cells": [
  {
   "cell_type": "code",
   "execution_count": 11,
   "id": "747371d7-278e-455f-8a20-cc5571bb2569",
   "metadata": {},
   "outputs": [
    {
     "name": "stdin",
     "output_type": "stream",
     "text": [
      "Enter your score 101\n"
     ]
    },
    {
     "name": "stdout",
     "output_type": "stream",
     "text": [
      "Your grade is: invalid\n"
     ]
    }
   ],
   "source": [
    "score = int(input(\"Enter your score\"))\n",
    "if score>=90 and score<=100:\n",
    "    grade = 'A'\n",
    "elif score>=80 and score<=89:\n",
    "    grade = 'B'\n",
    "elif score>=70 and score<=79:\n",
    "    grade = 'C'\n",
    "elif score>=60 and score<=69:\n",
    "    grade = 'D'\n",
    "elif score>=50 and score<=59:\n",
    "    grade = 'E'\n",
    "elif score>100:\n",
    "    grade = 'invalid'\n",
    "else:\n",
    "    grade = 'F'\n",
    "print(f\"Your grade is: {grade}\")"
   ]
  },
  {
   "cell_type": "code",
   "execution_count": null,
   "id": "d6f90915-de30-488c-956f-3d66d059e5cd",
   "metadata": {},
   "outputs": [],
   "source": [
    "score = int(input(\"Enter your score\"))\n",
    "if score>=90 and score<=100:\n",
    "    grade = 'A'\n",
    "elif score>=80 and score<=89:\n",
    "    grade = 'B'\n",
    "elif score>=70 and score<=79:\n",
    "    grade = 'C'\n",
    "elif score>=60 and score<=69:\n",
    "    grade = 'D'\n",
    "elif score>=50 and score<=59:\n",
    "    grade = 'E'\n",
    "else:\n",
    "    grade = 'F'\n",
    "print(f\"Your grade is: {grade}\")"
   ]
  },
  {
   "cell_type": "code",
   "execution_count": 1,
   "id": "61c46bbf-a5c8-481d-918a-2c2ed4efc178",
   "metadata": {},
   "outputs": [
    {
     "name": "stdout",
     "output_type": "stream",
     "text": [
      "Eligible to vote:[34, 78, 23, 100, 91, 104, 205, 45]\n",
      "Ineligible to vote:[5, 1]\n"
     ]
    }
   ],
   "source": [
    "ages = [34, 5, 78, 23, 100, 91, 104, 205, 45, 1]\n",
    "eligible_ages = [] \n",
    "ineligible_ages = [] \n",
    "if ages[0] >= 18:\n",
    "    eligible_ages.append(ages[0])\n",
    "else:\n",
    "    ineligible_ages.append(ages[0])\n",
    "if ages[1] >= 18:\n",
    "    eligible_ages.append(ages[1])\n",
    "else:\n",
    "    ineligible_ages.append(ages[1])\n",
    "if ages[2] >= 18:\n",
    "    eligible_ages.append(ages[2])\n",
    "else:\n",
    "    ineligible_ages.append(ages[2])\n",
    "if ages[3] >= 18:\n",
    "    eligible_ages.append(ages[3])\n",
    "else:\n",
    "    ineligible_ages.append(ages[3])\n",
    "if ages[4] >= 18:\n",
    "    eligible_ages.append(ages[4])\n",
    "else:\n",
    "    ineligible_ages.append(ages[4])\n",
    "if ages[5] >= 18:\n",
    "    eligible_ages.append(ages[5])\n",
    "else:\n",
    "    ineligible_ages.append(ages[5])\n",
    "if ages[6] >= 18:\n",
    "    eligible_ages.append(ages[6])\n",
    "else:\n",
    "    ineligible_ages.append(ages[6])\n",
    "if ages[7] >= 18:\n",
    "    eligible_ages.append(ages[7])\n",
    "else:\n",
    "    ineligible_ages.append(ages[7])\n",
    "if ages[8] >= 18:\n",
    "    eligible_ages.append(ages[8])\n",
    "else:\n",
    "    ineligible_ages.append(ages[8])\n",
    "if ages[9] >= 18:\n",
    "    eligible_ages.append(ages[9])\n",
    "else:\n",
    "    ineligible_ages.append(ages[9])\n",
    "#Printing \n",
    "print(f\"Eligible to vote:{eligible_ages}\")\n",
    "print(f\"Ineligible to vote:{ineligible_ages}\")"
   ]
  },
  {
   "cell_type": "code",
   "execution_count": null,
   "id": "42498f44-6bff-410a-ad7a-1a7fd375e55c",
   "metadata": {},
   "outputs": [
    {
     "name": "stdout",
     "output_type": "stream",
     "text": [
      "Welcome to Pranay Restaurant\n",
      "Please select your menu type:\n",
      "Press '1' for vegetarian\n",
      "Press '2' for non-vegetarian\n"
     ]
    },
    {
     "name": "stdin",
     "output_type": "stream",
     "text": [
      " 2\n"
     ]
    },
    {
     "name": "stdout",
     "output_type": "stream",
     "text": [
      "Select from the following dishes: 1. Butter Chicken, 2. Chicken Biryani, 3. Mutton Biryani, 4. Chicken 65, 5. Tandoori Fish\n"
     ]
    }
   ],
   "source": [
    "print(\"Welcome to Pranay Restaurant\")\n",
    "print(\"Please select your menu type:\")\n",
    "print(\"Press '1' for vegetarian\")\n",
    "print(\"Press '2' for non-vegetarian\")\n",
    "number = int(input())\n",
    "veg = [\"1. Paneer Biryani\", \"2. Veg Fried Rice\", \"3. Paneer Biryani\", \"4. Manchuria Fried Rice\", \"5. Mixed Veg Biryani\"]\n",
    "non_veg = [\"1. Fish Biryani\", \"2. Chicken Biryani\", \"3. Mutton Biryani\", \"4. Chicken Fried Rice\", \"5. Butter Chicken\"]\n",
    "# Unpacking for assignment\n",
    "v1,v2,v3,v4,v5 = veg\n",
    "vegunpack=v1+\", \"+v2+\", \"+v3+\", \"+v4+\", \"+v5\n",
    "n1,n2,n3,n4,n5 = non_veg\n",
    "non_vegunpack=n1+\", \"+n2+\", \"+n3+\", \"+n4+\", \"+n5\n",
    "if number == 1:\n",
    "    print(\"Select from the following dishes:\", vegunpack)\n",
    "    veg_dish = int(input(\"Please enter the number corresponding to your vegetarian dish: \"))\n",
    "    if veg_dish == 1 or veg_dish == 2 or veg_dish == 3 or veg_dish == 4 or veg_dish == 5:\n",
    "        print(\"Your order is getting prepared, please wait.\")\n",
    "    else:\n",
    "        print(\"Entered dish is not available.\")\n",
    "elif number == 2:\n",
    "    print(\"Select from the following dishes:\", non_vegunpack)\n",
    "    non_veg_dish = int(input(\"Please enter the number corresponding to your non-vegetarian dish: \"))\n",
    "    if non_veg_dish == 1 or non_veg_dish == 2 or non_veg_dish == 3 or non_veg_dish == 4 or non_veg_dish == 5:\n",
    "        print(\"Your order is getting prepared, please wait.\")\n",
    "    else:\n",
    "        print(\"Entered dish is not available.\")\n",
    "else:\n",
    "    print(\"Choose only between 1 and 2\")"
   ]
  },
  {
   "cell_type": "code",
   "execution_count": null,
   "id": "d89ba727-9c61-4b4d-bcf9-e5f9971694eb",
   "metadata": {},
   "outputs": [],
   "source": []
  }
 ],
 "metadata": {
  "kernelspec": {
   "display_name": "Python 3 (ipykernel)",
   "language": "python",
   "name": "python3"
  },
  "language_info": {
   "codemirror_mode": {
    "name": "ipython",
    "version": 3
   },
   "file_extension": ".py",
   "mimetype": "text/x-python",
   "name": "python",
   "nbconvert_exporter": "python",
   "pygments_lexer": "ipython3",
   "version": "3.12.4"
  }
 },
 "nbformat": 4,
 "nbformat_minor": 5
}
