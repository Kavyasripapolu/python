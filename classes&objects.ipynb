{
 "cells": [
  {
   "cell_type": "code",
   "execution_count": 7,
   "id": "fab6fe48-b991-4da7-a015-82c097e291bc",
   "metadata": {},
   "outputs": [
    {
     "name": "stdout",
     "output_type": "stream",
     "text": [
      "9\n"
     ]
    }
   ],
   "source": [
    "class myclass:\n",
    "    x = 9\n",
    "obj1 = myclass()\n",
    "print(obj1.x)"
   ]
  },
  {
   "cell_type": "code",
   "execution_count": 9,
   "id": "03d020c8-7337-4ee3-b545-06258cd14c53",
   "metadata": {},
   "outputs": [
    {
     "name": "stdout",
     "output_type": "stream",
     "text": [
      "9999\n"
     ]
    }
   ],
   "source": [
    "class hello:\n",
    "    x=9999\n",
    "operationx=hello()\n",
    "print(operationx.x)"
   ]
  },
  {
   "cell_type": "code",
   "execution_count": 31,
   "id": "6c060097-d224-4ee3-9a9e-79383f998e9e",
   "metadata": {},
   "outputs": [
    {
     "name": "stdout",
     "output_type": "stream",
     "text": [
      "oreo is 2 years old. \n",
      "pluto is 1 year old. \n",
      "woof!\n",
      "woof!\n"
     ]
    }
   ],
   "source": [
    "class dog:\n",
    "    def __init__(self,name,age):\n",
    "        self.name=name\n",
    "        self.age=age\n",
    "    def bark(self):\n",
    "        print(\"woof!\")\n",
    "dog1=dog(\"oreo\",2)\n",
    "dog2=dog(\"pluto\",1)\n",
    "print(f\"{dog1.name} is {dog1.age} years old. \")\n",
    "print(f\"{dog2.name} is {dog2.age} year old. \")\n",
    "dog1.bark()\n",
    "dog2.bark()"
   ]
  },
  {
   "cell_type": "code",
   "execution_count": 17,
   "id": "a90626e0-aa9b-4f24-9474-62b3fc946d59",
   "metadata": {},
   "outputs": [
    {
     "name": "stdout",
     "output_type": "stream",
     "text": [
      "hello world\n"
     ]
    }
   ],
   "source": [
    "class self():\n",
    "    def __init__(self):\n",
    "        print(\"hello world\")\n",
    "obj=self()"
   ]
  },
  {
   "cell_type": "code",
   "execution_count": 29,
   "id": "8eef583a-04e4-48eb-b630-4cdb8a162121",
   "metadata": {},
   "outputs": [
    {
     "name": "stdout",
     "output_type": "stream",
     "text": [
      "kavya,my age is 22 years old\n"
     ]
    }
   ],
   "source": [
    "class student:\n",
    "    def __init__(self,name,age):\n",
    "        self.name=name\n",
    "        self.age=age\n",
    "    def __str__(self):\n",
    "        return f\"{self.name},my age is {self.age} years old\"\n",
    "my_student = student(name=\"kavya\",age=22)\n",
    "print(my_student)"
   ]
  }
 ],
 "metadata": {
  "kernelspec": {
   "display_name": "Python 3 (ipykernel)",
   "language": "python",
   "name": "python3"
  },
  "language_info": {
   "codemirror_mode": {
    "name": "ipython",
    "version": 3
   },
   "file_extension": ".py",
   "mimetype": "text/x-python",
   "name": "python",
   "nbconvert_exporter": "python",
   "pygments_lexer": "ipython3",
   "version": "3.12.4"
  }
 },
 "nbformat": 4,
 "nbformat_minor": 5
}
