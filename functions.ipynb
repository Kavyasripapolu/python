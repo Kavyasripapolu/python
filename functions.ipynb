{
 "cells": [
  {
   "cell_type": "code",
   "execution_count": 2,
   "id": "c50034cd-7973-4fe2-be1b-42336a6f68f9",
   "metadata": {},
   "outputs": [
    {
     "name": "stdout",
     "output_type": "stream",
     "text": [
      "Hello, kavya!\n"
     ]
    }
   ],
   "source": [
    "def greet(name):\n",
    "    print(f\"Hello, {name}!\")\n",
    "greet(\"kavya\")"
   ]
  },
  {
   "cell_type": "code",
   "execution_count": 1,
   "id": "5f8d91c2-a8f6-4148-bddb-35fdfeebcb58",
   "metadata": {},
   "outputs": [
    {
     "name": "stdout",
     "output_type": "stream",
     "text": [
      "4 is an even number\n"
     ]
    }
   ],
   "source": [
    "def even_odd(num):\n",
    "    if num%2==0:\n",
    "        print(num,\"is an even number\")\n",
    "    else:\n",
    "        print(num,\"is an odd number\")\n",
    "even_odd(4)"
   ]
  },
  {
   "cell_type": "code",
   "execution_count": 3,
   "id": "e47589d0-8893-459f-8c05-2cba7b3b6d1d",
   "metadata": {},
   "outputs": [
    {
     "name": "stdout",
     "output_type": "stream",
     "text": [
      "a is smaller\n"
     ]
    }
   ],
   "source": [
    "def min(a,b,c):\n",
    "    if a < b and a < c:\n",
    "        print(\"a is smaller\")\n",
    "    elif b < a and b < c:\n",
    "        print(\"b is smaller\")\n",
    "    else:\n",
    "        print(\"c is smaller\")\n",
    "min(2,3,4)"
   ]
  },
  {
   "cell_type": "code",
   "execution_count": 5,
   "id": "e522d3f4-fd2b-484a-b9eb-e7604770bb7b",
   "metadata": {},
   "outputs": [
    {
     "name": "stdout",
     "output_type": "stream",
     "text": [
      "c is greater\n"
     ]
    }
   ],
   "source": [
    "def max(a,b,c):\n",
    "    if a > b and a > c:\n",
    "        print(\"a is greater\")\n",
    "    elif b >a and b > c:\n",
    "        print(\"b is greater\")\n",
    "    else:\n",
    "        print(\"c is greater\")\n",
    "max(6,8,9)"
   ]
  },
  {
   "cell_type": "code",
   "execution_count": 21,
   "id": "a506ce41-8e59-4772-9c7f-ddeaf0911a6e",
   "metadata": {},
   "outputs": [
    {
     "name": "stdin",
     "output_type": "stream",
     "text": [
      "enter the str: hitfou\n"
     ]
    },
    {
     "name": "stdout",
     "output_type": "stream",
     "text": [
      "the str is not palindrome.\n",
      "None\n"
     ]
    }
   ],
   "source": [
    "#Write a Python program to check if a string is a palindrome.\n",
    "def palindrome(str):\n",
    "    if(str == str[::-1]):\n",
    "        print(\"the str is palindrome.\")\n",
    "    else:\n",
    "        print(\"the str is not palindrome.\")\n",
    "str= input(\"enter the str:\")\n",
    "\n",
    "print(palindrome(str))"
   ]
  },
  {
   "cell_type": "code",
   "execution_count": 10,
   "id": "322fb055-8ebf-4847-988e-daecd4fbda49",
   "metadata": {},
   "outputs": [
    {
     "name": "stdin",
     "output_type": "stream",
     "text": [
      "Enter a value: 9\n"
     ]
    },
    {
     "name": "stdout",
     "output_type": "stream",
     "text": [
      "109\n"
     ]
    }
   ],
   "source": [
    "x = lambda a:a+100\n",
    "print(x(int(input(\"Enter a value:\"))))"
   ]
  },
  {
   "cell_type": "code",
   "execution_count": 12,
   "id": "e2eea974-9891-4fbb-ab80-6dd35d0616d4",
   "metadata": {},
   "outputs": [
    {
     "name": "stdin",
     "output_type": "stream",
     "text": [
      "Enter a year to check if it is a leap year 2000\n"
     ]
    },
    {
     "name": "stdout",
     "output_type": "stream",
     "text": [
      "It is leap year\n"
     ]
    }
   ],
   "source": [
    "def leap(year):\n",
    "    if year%4==0:\n",
    "        print(\"It is leap year\")\n",
    "    else:\n",
    "        print(\"It is not a leap year\")\n",
    "leap(int(input(\"Enter a year to check if it is a leap year\")))"
   ]
  },
  {
   "cell_type": "code",
   "execution_count": 14,
   "id": "374e499d-31fb-4688-9315-61cbd030314c",
   "metadata": {},
   "outputs": [
    {
     "name": "stdin",
     "output_type": "stream",
     "text": [
      "Enter the number: 6\n"
     ]
    },
    {
     "name": "stdout",
     "output_type": "stream",
     "text": [
      "It has 30 days\n"
     ]
    }
   ],
   "source": [
    "def daysinmonth():\n",
    "    month_of_28 = [2]\n",
    "    month_of_30 = [4,6,9,11]\n",
    "    month_of_31 = [1,3,5,7,8,10,12]\n",
    "    number = int(input(\"Enter the number:\"))\n",
    "    if number in month_of_28:\n",
    "        print(\"It has 28 days\")\n",
    "    elif number in month_of_30:\n",
    "        print(\"It has 30 days\")\n",
    "    elif number in month_of_31: \n",
    "        print(\"It has 31 days\")\n",
    "    else:\n",
    "        print(\"please enter between 1 to 12\")\n",
    "daysinmonth()    "
   ]
  },
  {
   "cell_type": "code",
   "execution_count": 20,
   "id": "5ba77f28-9f62-430e-b08c-7817d819040d",
   "metadata": {},
   "outputs": [
    {
     "name": "stdin",
     "output_type": "stream",
     "text": [
      "enter the string kavya\n"
     ]
    },
    {
     "name": "stdout",
     "output_type": "stream",
     "text": [
      "it is not a vowel k\n",
      "it is a vowel a\n",
      "it is not a vowel v\n",
      "it is not a vowel y\n",
      "it is a vowel a\n"
     ]
    }
   ],
   "source": [
    "def vowels_consonants(x):\n",
    "    v=['a','e','i','o','u','A','E','I','O','U']\n",
    "    x = input(\"enter the string\")\n",
    "    for i in x:\n",
    "        if i in v:\n",
    "            print(\"it is a vowel\",i)\n",
    "        else:\n",
    "            print(\"it is not a vowel\",i)\n",
    "vowels_consonants(x)"
   ]
  },
  {
   "cell_type": "code",
   "execution_count": 22,
   "id": "c1b3c978-db36-48a7-9beb-6a4d9e9b7c78",
   "metadata": {},
   "outputs": [
    {
     "name": "stdin",
     "output_type": "stream",
     "text": [
      "Enter a temperature value is celsius:  555\n"
     ]
    },
    {
     "name": "stdout",
     "output_type": "stream",
     "text": [
      "1031.0 is the corresponding fahrenheit value of 555.0\n"
     ]
    }
   ],
   "source": [
    "def temp():\n",
    " c = float(input(\"Enter a temperature value is celsius: \"))\n",
    " f=(c*9/5)+32\n",
    " print()\n",
    "temp()"
   ]
  },
  {
   "cell_type": "code",
   "execution_count": null,
   "id": "bb89e29b-50db-4cda-96a4-59a20388e6ef",
   "metadata": {},
   "outputs": [],
   "source": []
  }
 ],
 "metadata": {
  "kernelspec": {
   "display_name": "Python 3 (ipykernel)",
   "language": "python",
   "name": "python3"
  },
  "language_info": {
   "codemirror_mode": {
    "name": "ipython",
    "version": 3
   },
   "file_extension": ".py",
   "mimetype": "text/x-python",
   "name": "python",
   "nbconvert_exporter": "python",
   "pygments_lexer": "ipython3",
   "version": "3.12.4"
  }
 },
 "nbformat": 4,
 "nbformat_minor": 5
}
