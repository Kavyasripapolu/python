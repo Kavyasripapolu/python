{
 "cells": [
  {
   "cell_type": "code",
   "execution_count": 1,
   "id": "8e9c6650-06f1-485a-82ed-6b3b6ed97cc4",
   "metadata": {},
   "outputs": [
    {
     "name": "stdout",
     "output_type": "stream",
     "text": [
      "8\n",
      "15\n",
      "7\n"
     ]
    }
   ],
   "source": [
    "print(9&14)\n",
    "print(9|14)\n",
    "print(9^14)"
   ]
  },
  {
   "cell_type": "code",
   "execution_count": 11,
   "id": "f3816288-b5f6-434b-8bab-80aa2db48b2d",
   "metadata": {},
   "outputs": [
    {
     "name": "stdout",
     "output_type": "stream",
     "text": [
      "430\n",
      "447\n",
      "17\n"
     ]
    }
   ],
   "source": [
    "print(447&430)\n",
    "print(447|430)\n",
    "print(447^430)"
   ]
  },
  {
   "cell_type": "code",
   "execution_count": 5,
   "id": "16e8eb3b-c9c3-417e-bb57-76f1c68e6953",
   "metadata": {},
   "outputs": [
    {
     "name": "stdout",
     "output_type": "stream",
     "text": [
      "1\n",
      "335\n",
      "334\n"
     ]
    }
   ],
   "source": [
    "print(333&3)\n",
    "print(333|3)\n",
    "print(333^3)"
   ]
  },
  {
   "cell_type": "code",
   "execution_count": 9,
   "id": "493cd192-bda0-4aac-865a-d7159705fd8f",
   "metadata": {},
   "outputs": [
    {
     "name": "stdout",
     "output_type": "stream",
     "text": [
      "449\n",
      "2015\n",
      "1566\n"
     ]
    }
   ],
   "source": [
    "print(971&1493)\n",
    "print(971|1493)\n",
    "print(971^1493)"
   ]
  },
  {
   "cell_type": "code",
   "execution_count": 13,
   "id": "acbb12f9-e9d7-46c6-8fd5-4ae9b48f4cba",
   "metadata": {},
   "outputs": [
    {
     "name": "stdout",
     "output_type": "stream",
     "text": [
      "-15\n"
     ]
    }
   ],
   "source": [
    "print(~14)"
   ]
  },
  {
   "cell_type": "code",
   "execution_count": 15,
   "id": "0b9de82d-db67-4962-b865-1b5e2b7b7b8a",
   "metadata": {},
   "outputs": [
    {
     "name": "stdout",
     "output_type": "stream",
     "text": [
      "-98\n"
     ]
    }
   ],
   "source": [
    "print(~97)"
   ]
  },
  {
   "cell_type": "code",
   "execution_count": 17,
   "id": "778db715-944a-4eee-9f40-2dc7f49f85dc",
   "metadata": {},
   "outputs": [
    {
     "name": "stdout",
     "output_type": "stream",
     "text": [
      "-421\n"
     ]
    }
   ],
   "source": [
    "print(~420)"
   ]
  },
  {
   "cell_type": "code",
   "execution_count": 19,
   "id": "33e5fef5-d5c7-42fb-8942-7f9b1602008e",
   "metadata": {},
   "outputs": [
    {
     "name": "stdout",
     "output_type": "stream",
     "text": [
      "38256\n"
     ]
    }
   ],
   "source": [
    "print(2391<<4)"
   ]
  },
  {
   "cell_type": "code",
   "execution_count": 21,
   "id": "c85df592-3270-43c7-bb0b-021420ba065e",
   "metadata": {},
   "outputs": [
    {
     "name": "stdout",
     "output_type": "stream",
     "text": [
      "28764\n"
     ]
    }
   ],
   "source": [
    "print(7191<<2)"
   ]
  },
  {
   "cell_type": "code",
   "execution_count": 23,
   "id": "a197ffe3-5a98-4d91-acc1-420af940eb30",
   "metadata": {},
   "outputs": [
    {
     "name": "stdout",
     "output_type": "stream",
     "text": [
      "2560\n"
     ]
    }
   ],
   "source": [
    "print(5121>>1)"
   ]
  },
  {
   "cell_type": "code",
   "execution_count": 25,
   "id": "9cabaee2-d93e-4776-b356-ee3fe3df1155",
   "metadata": {},
   "outputs": [
    {
     "name": "stdout",
     "output_type": "stream",
     "text": [
      "378\n"
     ]
    }
   ],
   "source": [
    "print(3029>>3)"
   ]
  },
  {
   "cell_type": "code",
   "execution_count": 47,
   "id": "dcd31ba3-ef12-4c0e-b52d-da9f39be492a",
   "metadata": {},
   "outputs": [
    {
     "name": "stdout",
     "output_type": "stream",
     "text": [
      "-21\n"
     ]
    }
   ],
   "source": [
    "x = 2+9-4*(3+1)*2 \n",
    "print(x)"
   ]
  },
  {
   "cell_type": "code",
   "execution_count": 49,
   "id": "cd58d6f6-ff5f-4828-af0c-0902324bb980",
   "metadata": {},
   "outputs": [
    {
     "name": "stdout",
     "output_type": "stream",
     "text": [
      "-101396\n"
     ]
    }
   ],
   "source": [
    "y = 2991+31-11602*9\n",
    "print(y)"
   ]
  }
 ],
 "metadata": {
  "kernelspec": {
   "display_name": "Python 3 (ipykernel)",
   "language": "python",
   "name": "python3"
  },
  "language_info": {
   "codemirror_mode": {
    "name": "ipython",
    "version": 3
   },
   "file_extension": ".py",
   "mimetype": "text/x-python",
   "name": "python",
   "nbconvert_exporter": "python",
   "pygments_lexer": "ipython3",
   "version": "3.12.4"
  }
 },
 "nbformat": 4,
 "nbformat_minor": 5
}
