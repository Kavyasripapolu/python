{
 "cells": [
  {
   "cell_type": "code",
   "execution_count": 1,
   "id": "2f38d736-5120-4dd5-a9da-54f9d50bd5d9",
   "metadata": {},
   "outputs": [
    {
     "name": "stdout",
     "output_type": "stream",
     "text": [
      "True\n",
      "True\n",
      "False\n"
     ]
    }
   ],
   "source": [
    "x1=6\n",
    "y1=6\n",
    "x2=\"burger\"\n",
    "y2=\"chicken burger\"\n",
    "print(x1 is y1)\n",
    "print(x2 is not y2)\n",
    "print(y1 is x2)"
   ]
  },
  {
   "cell_type": "code",
   "execution_count": 3,
   "id": "89b100e1-685e-45d8-b176-3d7da72d1b1f",
   "metadata": {},
   "outputs": [
    {
     "name": "stdout",
     "output_type": "stream",
     "text": [
      "False\n",
      "True\n",
      "False\n",
      "True\n"
     ]
    }
   ],
   "source": [
    "x1=9\n",
    "y1=13\n",
    "x2=\"kavya\"\n",
    "y2=\"kavya chandana\"\n",
    "print(x1 is y2)\n",
    "print(x2 is not y2)\n",
    "print(y1 is x1)\n",
    "print(x1 is not y2)"
   ]
  },
  {
   "cell_type": "code",
   "execution_count": 5,
   "id": "886fd794-7ea5-4a07-8b0a-e44e1e1f779e",
   "metadata": {},
   "outputs": [
    {
     "name": "stdout",
     "output_type": "stream",
     "text": [
      "True\n",
      "True\n",
      "False\n",
      "False\n"
     ]
    }
   ],
   "source": [
    "x=\"pizza\"\n",
    "y=[1,2,3,4,5,6]\n",
    "print('i'in x)\n",
    "print('pizza' not in y)\n",
    "print(7 in y)\n",
    "print('a'in y)"
   ]
  },
  {
   "cell_type": "code",
   "execution_count": 7,
   "id": "646b4177-7cfa-44bd-a688-34b66b55c0ed",
   "metadata": {},
   "outputs": [
    {
     "name": "stdout",
     "output_type": "stream",
     "text": [
      "True\n",
      "True\n",
      "False\n"
     ]
    }
   ],
   "source": [
    "x=\"biriyani\"\n",
    "y=[4,5,6,7,8]\n",
    "print('r' in x)\n",
    "print(4 in y)\n",
    "print('n' not in x)"
   ]
  }
 ],
 "metadata": {
  "kernelspec": {
   "display_name": "Python 3 (ipykernel)",
   "language": "python",
   "name": "python3"
  },
  "language_info": {
   "codemirror_mode": {
    "name": "ipython",
    "version": 3
   },
   "file_extension": ".py",
   "mimetype": "text/x-python",
   "name": "python",
   "nbconvert_exporter": "python",
   "pygments_lexer": "ipython3",
   "version": "3.12.4"
  }
 },
 "nbformat": 4,
 "nbformat_minor": 5
}
