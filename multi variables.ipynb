{
 "cells": [
  {
   "cell_type": "code",
   "execution_count": 1,
   "id": "15ed2bd1-0f5b-4f62-b18d-a99ba2c6b35e",
   "metadata": {},
   "outputs": [
    {
     "name": "stdout",
     "output_type": "stream",
     "text": [
      "10 20 30\n"
     ]
    }
   ],
   "source": [
    "a,b,c=10,20,30\n",
    "print(a,b,c)"
   ]
  },
  {
   "cell_type": "code",
   "execution_count": 3,
   "id": "2355c7f8-5b1b-4c2e-9e33-d25cda608280",
   "metadata": {},
   "outputs": [
    {
     "name": "stdout",
     "output_type": "stream",
     "text": [
      "10\n",
      "20\n",
      "30\n"
     ]
    }
   ],
   "source": [
    "a,b,c=10,20,30\n",
    "print(a)\n",
    "print(b)\n",
    "print(c)"
   ]
  },
  {
   "cell_type": "code",
   "execution_count": 5,
   "id": "8972545f-ea17-4b0e-b7f7-e66df2faf865",
   "metadata": {},
   "outputs": [
    {
     "name": "stdout",
     "output_type": "stream",
     "text": [
      "dairymilk kitkat mikybar\n"
     ]
    }
   ],
   "source": [
    "x,y,z=\"dairymilk\",\"kitkat\",\"mikybar\"\n",
    "print(x,y,z)"
   ]
  },
  {
   "cell_type": "code",
   "execution_count": 7,
   "id": "4971b725-7d77-4125-a14f-ed8621b3cc00",
   "metadata": {},
   "outputs": [
    {
     "name": "stdout",
     "output_type": "stream",
     "text": [
      "dairymilk\n",
      "kitkat\n",
      "mikybar\n"
     ]
    }
   ],
   "source": [
    "x,y,z=\"dairymilk\",\"kitkat\",\"mikybar\"\n",
    "print(x)\n",
    "print(y)\n",
    "print(z)"
   ]
  },
  {
   "cell_type": "code",
   "execution_count": 9,
   "id": "77bc59ea-f639-42ec-b9d6-8990c4f21dbb",
   "metadata": {},
   "outputs": [
    {
     "name": "stdout",
     "output_type": "stream",
     "text": [
      "9702 9702 9702\n"
     ]
    }
   ],
   "source": [
    "a=b=c=9702\n",
    "print(a,b,c)"
   ]
  },
  {
   "cell_type": "code",
   "execution_count": 11,
   "id": "47205a7e-0b5b-4dc6-bd90-44815468f374",
   "metadata": {},
   "outputs": [
    {
     "name": "stdout",
     "output_type": "stream",
     "text": [
      "9702\n",
      "9702\n",
      "9702\n"
     ]
    }
   ],
   "source": [
    "a=b=c=9702\n",
    "print(a)\n",
    "print(b)\n",
    "print(c)"
   ]
  },
  {
   "cell_type": "code",
   "execution_count": 21,
   "id": "08eafb88-409c-4dc5-acf9-49adca650198",
   "metadata": {},
   "outputs": [
    {
     "name": "stdout",
     "output_type": "stream",
     "text": [
      "Kavya Bhavana khyathi\n"
     ]
    }
   ],
   "source": [
    "x,y,z=\"Kavya\",\"Bhavana\",\"khyathi\"\n",
    "print(x,y,z)"
   ]
  },
  {
   "cell_type": "code",
   "execution_count": 23,
   "id": "9b0bee01-971f-4ffe-a4b4-5c3e15c0eab2",
   "metadata": {},
   "outputs": [
    {
     "name": "stdout",
     "output_type": "stream",
     "text": [
      "Kavya\n",
      "Bhavana\n",
      "khyathi\n"
     ]
    }
   ],
   "source": [
    "x,y,z=\"Kavya\",\"Bhavana\",\"khyathi\"\n",
    "print(x)\n",
    "print(y)\n",
    "print(z)"
   ]
  },
  {
   "cell_type": "code",
   "execution_count": 25,
   "id": "e5a1df62-f8d8-4cfd-b0e2-5786f78f99ce",
   "metadata": {},
   "outputs": [
    {
     "name": "stdout",
     "output_type": "stream",
     "text": [
      "9702 9702 9702\n"
     ]
    }
   ],
   "source": [
    "x=y=z=9702\n",
    "print(x,y,z)"
   ]
  },
  {
   "cell_type": "code",
   "execution_count": 27,
   "id": "e3d37284-2c7d-4572-91fa-8adf99fe8161",
   "metadata": {},
   "outputs": [
    {
     "name": "stdout",
     "output_type": "stream",
     "text": [
      "9702\n",
      "9702\n",
      "9702\n"
     ]
    }
   ],
   "source": [
    "x=y=z=9702\n",
    "print(x)\n",
    "print(y)\n",
    "print(z)"
   ]
  }
 ],
 "metadata": {
  "kernelspec": {
   "display_name": "anaconda-panel-2023.05-py310",
   "language": "python",
   "name": "conda-env-anaconda-panel-2023.05-py310-py"
  },
  "language_info": {
   "codemirror_mode": {
    "name": "ipython",
    "version": 3
   },
   "file_extension": ".py",
   "mimetype": "text/x-python",
   "name": "python",
   "nbconvert_exporter": "python",
   "pygments_lexer": "ipython3",
   "version": "3.11.5"
  }
 },
 "nbformat": 4,
 "nbformat_minor": 5
}
