{
 "cells": [
  {
   "cell_type": "code",
   "execution_count": 1,
   "id": "3132cc56-3e23-4356-8159-ef20b56815b0",
   "metadata": {},
   "outputs": [
    {
     "name": "stdout",
     "output_type": "stream",
     "text": [
      "False\n"
     ]
    }
   ],
   "source": [
    "print(3265>4857 and 5848<8346)"
   ]
  },
  {
   "cell_type": "code",
   "execution_count": 3,
   "id": "4931b358-611d-4225-a3fc-a822a0a1ef6c",
   "metadata": {},
   "outputs": [
    {
     "name": "stdout",
     "output_type": "stream",
     "text": [
      "True\n"
     ]
    }
   ],
   "source": [
    "print(1234<5678 and 5678>1234)"
   ]
  },
  {
   "cell_type": "code",
   "execution_count": 5,
   "id": "d9333158-0741-43d8-a29d-9c0a0ddd1f62",
   "metadata": {},
   "outputs": [
    {
     "name": "stdout",
     "output_type": "stream",
     "text": [
      "True\n"
     ]
    }
   ],
   "source": [
    "print(4547<6245 and 6847>3948)"
   ]
  },
  {
   "cell_type": "code",
   "execution_count": 7,
   "id": "31f5e7e0-a213-4081-aeb5-eb982da7b01a",
   "metadata": {},
   "outputs": [
    {
     "name": "stdout",
     "output_type": "stream",
     "text": [
      "True\n"
     ]
    }
   ],
   "source": [
    "print(46>8475 or 8475>424)"
   ]
  },
  {
   "cell_type": "code",
   "execution_count": 9,
   "id": "818879b1-dfe0-4071-ab6a-b8c2dfc840cb",
   "metadata": {},
   "outputs": [
    {
     "name": "stdout",
     "output_type": "stream",
     "text": [
      "False\n"
     ]
    }
   ],
   "source": [
    "print(46>8475 or 8475<424)"
   ]
  },
  {
   "cell_type": "code",
   "execution_count": 11,
   "id": "fe256537-fbbd-4229-b5b9-a72af20c7b6e",
   "metadata": {},
   "outputs": [
    {
     "name": "stdout",
     "output_type": "stream",
     "text": [
      "True\n"
     ]
    }
   ],
   "source": [
    "print(354<745 or 6436<875)"
   ]
  },
  {
   "cell_type": "code",
   "execution_count": 13,
   "id": "987ed09d-4d5e-4cde-99e9-06233a12d8b0",
   "metadata": {},
   "outputs": [
    {
     "name": "stdout",
     "output_type": "stream",
     "text": [
      "True\n"
     ]
    }
   ],
   "source": [
    "print(not(3564>73485 or 7356<46))"
   ]
  },
  {
   "cell_type": "code",
   "execution_count": 25,
   "id": "ad1b1ba5-fb8f-42a0-b73e-0c05cafda750",
   "metadata": {},
   "outputs": [
    {
     "name": "stdout",
     "output_type": "stream",
     "text": [
      "False\n"
     ]
    }
   ],
   "source": [
    "print(not(632457>465 and 465<48528))"
   ]
  },
  {
   "cell_type": "code",
   "execution_count": 27,
   "id": "588f76d5-b9b1-4f14-aaf5-4d2462e477ca",
   "metadata": {},
   "outputs": [
    {
     "name": "stdout",
     "output_type": "stream",
     "text": [
      "False\n"
     ]
    }
   ],
   "source": [
    "print(not(625>6354 or 354>64))"
   ]
  },
  {
   "cell_type": "code",
   "execution_count": 29,
   "id": "591b8bec-0458-4782-afe3-a07873abed91",
   "metadata": {},
   "outputs": [
    {
     "name": "stdout",
     "output_type": "stream",
     "text": [
      "True\n",
      "True\n",
      "False\n"
     ]
    }
   ],
   "source": [
    "print(100>99 and 99<100)\n",
    "print(100>99 or 100<99)\n",
    "print(not(100>99 and 99<100))"
   ]
  }
 ],
 "metadata": {
  "kernelspec": {
   "display_name": "Python 3 (ipykernel)",
   "language": "python",
   "name": "python3"
  },
  "language_info": {
   "codemirror_mode": {
    "name": "ipython",
    "version": 3
   },
   "file_extension": ".py",
   "mimetype": "text/x-python",
   "name": "python",
   "nbconvert_exporter": "python",
   "pygments_lexer": "ipython3",
   "version": "3.12.4"
  }
 },
 "nbformat": 4,
 "nbformat_minor": 5
}
